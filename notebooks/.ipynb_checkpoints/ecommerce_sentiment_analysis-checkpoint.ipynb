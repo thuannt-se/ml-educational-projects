{
 "cells": [
  {
   "cell_type": "markdown",
   "id": "ace7d0c1-5777-4228-a533-73785b0c6568",
   "metadata": {},
   "source": [
    "# 1. Natural Language Processing\n",
    "Natural Language Processing step to analyze the comments left on e-commerce orders. The goal is to use this as input to a sentimental analysis model for understanding the customer's sentiment on purchasing things online. Let's take a look on the reviews data.\n"
   ]
  },
  {
   "cell_type": "code",
   "execution_count": 17,
   "id": "68eb043b-434a-4603-9d89-a4da4bae27f9",
   "metadata": {},
   "outputs": [],
   "source": [
    "import pandas as pd\n",
    "import numpy as np\n",
    "import matplotlib.pyplot as plt\n",
    "import seaborn as sns"
   ]
  },
  {
   "cell_type": "code",
   "execution_count": 3,
   "id": "d5269165-e8fa-44f7-a3fa-5b674a1cdfde",
   "metadata": {},
   "outputs": [],
   "source": [
    "DATA_PATH = \"../data_set/ecommerce_review/data.csv\""
   ]
  },
  {
   "cell_type": "code",
   "execution_count": 18,
   "id": "046bcbfd-f684-4d84-adf4-58a6264a2bbd",
   "metadata": {},
   "outputs": [],
   "source": [
    "df_review = pd.read_csv(DATA_PATH)"
   ]
  },
  {
   "cell_type": "markdown",
   "id": "892ce1d7-c53e-43dc-963c-9d2ee4c9d38f",
   "metadata": {},
   "source": [
    "## 1.1 Data Understanding"
   ]
  },
  {
   "cell_type": "code",
   "execution_count": 19,
   "id": "f028268f-e7a5-48aa-9265-cff27ca8158a",
   "metadata": {},
   "outputs": [
    {
     "data": {
      "text/html": [
       "<div>\n",
       "<style scoped>\n",
       "    .dataframe tbody tr th:only-of-type {\n",
       "        vertical-align: middle;\n",
       "    }\n",
       "\n",
       "    .dataframe tbody tr th {\n",
       "        vertical-align: top;\n",
       "    }\n",
       "\n",
       "    .dataframe thead th {\n",
       "        text-align: right;\n",
       "    }\n",
       "</style>\n",
       "<table border=\"1\" class=\"dataframe\">\n",
       "  <thead>\n",
       "    <tr style=\"text-align: right;\">\n",
       "      <th></th>\n",
       "      <th>start</th>\n",
       "    </tr>\n",
       "  </thead>\n",
       "  <tbody>\n",
       "    <tr>\n",
       "      <th>count</th>\n",
       "      <td>31460.000000</td>\n",
       "    </tr>\n",
       "    <tr>\n",
       "      <th>mean</th>\n",
       "      <td>3.736840</td>\n",
       "    </tr>\n",
       "    <tr>\n",
       "      <th>std</th>\n",
       "      <td>1.382483</td>\n",
       "    </tr>\n",
       "    <tr>\n",
       "      <th>min</th>\n",
       "      <td>1.000000</td>\n",
       "    </tr>\n",
       "    <tr>\n",
       "      <th>25%</th>\n",
       "      <td>3.000000</td>\n",
       "    </tr>\n",
       "    <tr>\n",
       "      <th>50%</th>\n",
       "      <td>4.000000</td>\n",
       "    </tr>\n",
       "    <tr>\n",
       "      <th>75%</th>\n",
       "      <td>5.000000</td>\n",
       "    </tr>\n",
       "    <tr>\n",
       "      <th>max</th>\n",
       "      <td>5.000000</td>\n",
       "    </tr>\n",
       "  </tbody>\n",
       "</table>\n",
       "</div>"
      ],
      "text/plain": [
       "              start\n",
       "count  31460.000000\n",
       "mean       3.736840\n",
       "std        1.382483\n",
       "min        1.000000\n",
       "25%        3.000000\n",
       "50%        4.000000\n",
       "75%        5.000000\n",
       "max        5.000000"
      ]
     },
     "execution_count": 19,
     "metadata": {},
     "output_type": "execute_result"
    }
   ],
   "source": [
    "df_review.describe()"
   ]
  },
  {
   "cell_type": "code",
   "execution_count": 20,
   "id": "e72893a6-557d-4c48-b40d-562d1d43c93e",
   "metadata": {},
   "outputs": [
    {
     "data": {
      "text/html": [
       "<div>\n",
       "<style scoped>\n",
       "    .dataframe tbody tr th:only-of-type {\n",
       "        vertical-align: middle;\n",
       "    }\n",
       "\n",
       "    .dataframe tbody tr th {\n",
       "        vertical-align: top;\n",
       "    }\n",
       "\n",
       "    .dataframe thead th {\n",
       "        text-align: right;\n",
       "    }\n",
       "</style>\n",
       "<table border=\"1\" class=\"dataframe\">\n",
       "  <thead>\n",
       "    <tr style=\"text-align: right;\">\n",
       "      <th></th>\n",
       "      <th>content</th>\n",
       "      <th>label</th>\n",
       "      <th>start</th>\n",
       "    </tr>\n",
       "  </thead>\n",
       "  <tbody>\n",
       "    <tr>\n",
       "      <th>0</th>\n",
       "      <td>Áo bao đẹp ạ!</td>\n",
       "      <td>POS</td>\n",
       "      <td>5</td>\n",
       "    </tr>\n",
       "    <tr>\n",
       "      <th>1</th>\n",
       "      <td>Tuyệt vời</td>\n",
       "      <td>POS</td>\n",
       "      <td>5</td>\n",
       "    </tr>\n",
       "    <tr>\n",
       "      <th>2</th>\n",
       "      <td>2day ao khong giong trong</td>\n",
       "      <td>NEG</td>\n",
       "      <td>1</td>\n",
       "    </tr>\n",
       "    <tr>\n",
       "      <th>3</th>\n",
       "      <td>Mùi thơm,bôi lên da mềm da</td>\n",
       "      <td>POS</td>\n",
       "      <td>5</td>\n",
       "    </tr>\n",
       "    <tr>\n",
       "      <th>4</th>\n",
       "      <td>Vải đẹp, dày dặn</td>\n",
       "      <td>POS</td>\n",
       "      <td>5</td>\n",
       "    </tr>\n",
       "  </tbody>\n",
       "</table>\n",
       "</div>"
      ],
      "text/plain": [
       "                      content label  start\n",
       "0               Áo bao đẹp ạ!   POS      5\n",
       "1                   Tuyệt vời   POS      5\n",
       "2   2day ao khong giong trong   NEG      1\n",
       "3  Mùi thơm,bôi lên da mềm da   POS      5\n",
       "4            Vải đẹp, dày dặn   POS      5"
      ]
     },
     "execution_count": 20,
     "metadata": {},
     "output_type": "execute_result"
    }
   ],
   "source": [
    "df_review.head()"
   ]
  },
  {
   "cell_type": "markdown",
   "id": "86fae22a-4bf4-4317-bbd8-be3d2f115802",
   "metadata": {},
   "source": [
    "So we have 31k reviews with label as \"POS\" for positive and \"NEG\" for negative. And start column represents the score user give for product.\n",
    "The data can be used for building sentimental analysis model. However, before that, we have to do some text preparation to transform the comments input into a vectors which can be used for machine learning modeling."
   ]
  },
  {
   "cell_type": "markdown",
   "id": "7a31be1e-3c2e-4942-ac80-cdd75027dea2",
   "metadata": {},
   "source": [
    "## 1.2 Data Cleaning using regex (regular expression)"
   ]
  },
  {
   "cell_type": "markdown",
   "id": "dfeb7849-4aeb-47fb-8260-43314176f989",
   "metadata": {},
   "source": [
    "### 1.2.1 clean breakline"
   ]
  },
  {
   "cell_type": "code",
   "execution_count": null,
   "id": "46744dab-3bde-4795-a6d7-c3aee80b9125",
   "metadata": {},
   "outputs": [],
   "source": [
    "def re_breakline(texts = []):\n",
    "    if(texts.len() == 0):\n",
    "        raise ValueError(\"Text list cannot be empty\")\n",
    "    "
   ]
  }
 ],
 "metadata": {
  "kernelspec": {
   "display_name": "ox",
   "language": "python",
   "name": "ox"
  },
  "language_info": {
   "codemirror_mode": {
    "name": "ipython",
    "version": 3
   },
   "file_extension": ".py",
   "mimetype": "text/x-python",
   "name": "python",
   "nbconvert_exporter": "python",
   "pygments_lexer": "ipython3",
   "version": "3.11.4"
  }
 },
 "nbformat": 4,
 "nbformat_minor": 5
}
