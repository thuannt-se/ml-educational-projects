{
 "cells": [
  {
   "cell_type": "markdown",
   "id": "ace7d0c1-5777-4228-a533-73785b0c6568",
   "metadata": {},
   "source": [
    "# 1. Natural Language Processing\n",
    "Natural Language Processing step to analyze the comments left on e-commerce orders. The goal is to use this as input to a sentimental analysis model for understanding the customer's sentiment on purchasing things online. Let's take a look on the reviews data.\n"
   ]
  },
  {
   "cell_type": "code",
   "execution_count": 72,
   "id": "68eb043b-434a-4603-9d89-a4da4bae27f9",
   "metadata": {},
   "outputs": [],
   "source": [
    "import pandas as pd\n",
    "import numpy as np\n",
    "import matplotlib.pyplot as plt\n",
    "import seaborn as sns\n",
    "\n",
    "#data cleaning\n",
    "import re\n",
    "import emoji\n",
    "import string\n",
    "%matplotlib inline\n"
   ]
  },
  {
   "cell_type": "code",
   "execution_count": 3,
   "id": "d5269165-e8fa-44f7-a3fa-5b674a1cdfde",
   "metadata": {},
   "outputs": [],
   "source": [
    "DATA_PATH = \"../data_set/ecommerce_review/data.csv\""
   ]
  },
  {
   "cell_type": "code",
   "execution_count": 18,
   "id": "046bcbfd-f684-4d84-adf4-58a6264a2bbd",
   "metadata": {},
   "outputs": [],
   "source": [
    "df_review = pd.read_csv(DATA_PATH)"
   ]
  },
  {
   "cell_type": "markdown",
   "id": "892ce1d7-c53e-43dc-963c-9d2ee4c9d38f",
   "metadata": {},
   "source": [
    "## 1.1 Data Understanding"
   ]
  },
  {
   "cell_type": "code",
   "execution_count": 19,
   "id": "f028268f-e7a5-48aa-9265-cff27ca8158a",
   "metadata": {},
   "outputs": [
    {
     "data": {
      "text/html": [
       "<div>\n",
       "<style scoped>\n",
       "    .dataframe tbody tr th:only-of-type {\n",
       "        vertical-align: middle;\n",
       "    }\n",
       "\n",
       "    .dataframe tbody tr th {\n",
       "        vertical-align: top;\n",
       "    }\n",
       "\n",
       "    .dataframe thead th {\n",
       "        text-align: right;\n",
       "    }\n",
       "</style>\n",
       "<table border=\"1\" class=\"dataframe\">\n",
       "  <thead>\n",
       "    <tr style=\"text-align: right;\">\n",
       "      <th></th>\n",
       "      <th>start</th>\n",
       "    </tr>\n",
       "  </thead>\n",
       "  <tbody>\n",
       "    <tr>\n",
       "      <th>count</th>\n",
       "      <td>31460.000000</td>\n",
       "    </tr>\n",
       "    <tr>\n",
       "      <th>mean</th>\n",
       "      <td>3.736840</td>\n",
       "    </tr>\n",
       "    <tr>\n",
       "      <th>std</th>\n",
       "      <td>1.382483</td>\n",
       "    </tr>\n",
       "    <tr>\n",
       "      <th>min</th>\n",
       "      <td>1.000000</td>\n",
       "    </tr>\n",
       "    <tr>\n",
       "      <th>25%</th>\n",
       "      <td>3.000000</td>\n",
       "    </tr>\n",
       "    <tr>\n",
       "      <th>50%</th>\n",
       "      <td>4.000000</td>\n",
       "    </tr>\n",
       "    <tr>\n",
       "      <th>75%</th>\n",
       "      <td>5.000000</td>\n",
       "    </tr>\n",
       "    <tr>\n",
       "      <th>max</th>\n",
       "      <td>5.000000</td>\n",
       "    </tr>\n",
       "  </tbody>\n",
       "</table>\n",
       "</div>"
      ],
      "text/plain": [
       "              start\n",
       "count  31460.000000\n",
       "mean       3.736840\n",
       "std        1.382483\n",
       "min        1.000000\n",
       "25%        3.000000\n",
       "50%        4.000000\n",
       "75%        5.000000\n",
       "max        5.000000"
      ]
     },
     "execution_count": 19,
     "metadata": {},
     "output_type": "execute_result"
    }
   ],
   "source": [
    "df_review.describe()"
   ]
  },
  {
   "cell_type": "code",
   "execution_count": 20,
   "id": "e72893a6-557d-4c48-b40d-562d1d43c93e",
   "metadata": {},
   "outputs": [
    {
     "data": {
      "text/html": [
       "<div>\n",
       "<style scoped>\n",
       "    .dataframe tbody tr th:only-of-type {\n",
       "        vertical-align: middle;\n",
       "    }\n",
       "\n",
       "    .dataframe tbody tr th {\n",
       "        vertical-align: top;\n",
       "    }\n",
       "\n",
       "    .dataframe thead th {\n",
       "        text-align: right;\n",
       "    }\n",
       "</style>\n",
       "<table border=\"1\" class=\"dataframe\">\n",
       "  <thead>\n",
       "    <tr style=\"text-align: right;\">\n",
       "      <th></th>\n",
       "      <th>content</th>\n",
       "      <th>label</th>\n",
       "      <th>start</th>\n",
       "    </tr>\n",
       "  </thead>\n",
       "  <tbody>\n",
       "    <tr>\n",
       "      <th>0</th>\n",
       "      <td>Áo bao đẹp ạ!</td>\n",
       "      <td>POS</td>\n",
       "      <td>5</td>\n",
       "    </tr>\n",
       "    <tr>\n",
       "      <th>1</th>\n",
       "      <td>Tuyệt vời</td>\n",
       "      <td>POS</td>\n",
       "      <td>5</td>\n",
       "    </tr>\n",
       "    <tr>\n",
       "      <th>2</th>\n",
       "      <td>2day ao khong giong trong</td>\n",
       "      <td>NEG</td>\n",
       "      <td>1</td>\n",
       "    </tr>\n",
       "    <tr>\n",
       "      <th>3</th>\n",
       "      <td>Mùi thơm,bôi lên da mềm da</td>\n",
       "      <td>POS</td>\n",
       "      <td>5</td>\n",
       "    </tr>\n",
       "    <tr>\n",
       "      <th>4</th>\n",
       "      <td>Vải đẹp, dày dặn</td>\n",
       "      <td>POS</td>\n",
       "      <td>5</td>\n",
       "    </tr>\n",
       "  </tbody>\n",
       "</table>\n",
       "</div>"
      ],
      "text/plain": [
       "                      content label  start\n",
       "0               Áo bao đẹp ạ!   POS      5\n",
       "1                   Tuyệt vời   POS      5\n",
       "2   2day ao khong giong trong   NEG      1\n",
       "3  Mùi thơm,bôi lên da mềm da   POS      5\n",
       "4            Vải đẹp, dày dặn   POS      5"
      ]
     },
     "execution_count": 20,
     "metadata": {},
     "output_type": "execute_result"
    }
   ],
   "source": [
    "df_review.head()"
   ]
  },
  {
   "cell_type": "markdown",
   "id": "86fae22a-4bf4-4317-bbd8-be3d2f115802",
   "metadata": {},
   "source": [
    "So we have 31k reviews with label as \"POS\" for positive and \"NEG\" for negative. And start column represents the score user give for product.\n",
    "Let's see the distribution of label and start."
   ]
  },
  {
   "cell_type": "code",
   "execution_count": 45,
   "id": "d40898ff-a04d-483a-9745-2b8a4e533548",
   "metadata": {},
   "outputs": [
    {
     "data": {
      "text/plain": [
       "([<matplotlib.patches.Wedge at 0x17dff1990>,\n",
       "  <matplotlib.patches.Wedge at 0x17dff3550>,\n",
       "  <matplotlib.patches.Wedge at 0x17dff6ed0>,\n",
       "  <matplotlib.patches.Wedge at 0x17dff7bd0>,\n",
       "  <matplotlib.patches.Wedge at 0x17dfe56d0>],\n",
       " [Text(1.0323996277547125, 0.3796722384003484, '1'),\n",
       "  Text(0.5772283636050005, 0.9363799529303762, '2'),\n",
       "  Text(-0.25107186570127626, 1.0709635466500624, '3'),\n",
       "  Text(-1.079864344096105, 0.20950655920493041, '4'),\n",
       "  Text(0.26580607364266073, -1.0674020475971895, '5')],\n",
       " [Text(0.5631270696843886, 0.20709394821837185, '11.22%'),\n",
       "  Text(0.31485183469363665, 0.5107527015983869, '9.98%'),\n",
       "  Text(-0.13694829038251433, 0.5841619345363976, '14.93%'),\n",
       "  Text(-0.5890169149615118, 0.11427630502087112, '21.64%'),\n",
       "  Text(0.14498513107781494, -0.5822192986893759, '42.23%')])"
      ]
     },
     "execution_count": 45,
     "metadata": {},
     "output_type": "execute_result"
    },
    {
     "data": {
      "image/png": "[encoded data removed]",
      "text/plain": [
       "<Figure size 1500x1500 with 1 Axes>"
      ]
     },
     "metadata": {},
     "output_type": "display_data"
    }
   ],
   "source": [
    "data_label = df_review['start']\n",
    "data_label = pd.DataFrame(data_label, columns=['start']).groupby('start').size()\n",
    "plt.figure(figsize=(15, 15))\n",
    "plt.pie(data_label, autopct=\"%.2f%%\", labels=data_label.index)\n"
   ]
  },
  {
   "cell_type": "markdown",
   "id": "20f20395-93d2-4661-b0f0-d5b9178ecd7e",
   "metadata": {},
   "source": [
    "The data can be used for building sentimental analysis model. However, before that, we have to do some text preparation to transform the comments input into a vectors which can be used for machine learning modeling."
   ]
  },
  {
   "cell_type": "markdown",
   "id": "7a31be1e-3c2e-4942-ac80-cdd75027dea2",
   "metadata": {},
   "source": [
    "## 1.2 Data Cleaning using regex (regular expression)"
   ]
  },
  {
   "cell_type": "markdown",
   "id": "dfeb7849-4aeb-47fb-8260-43314176f989",
   "metadata": {},
   "source": [
    "### 1.2.1 clean breakline, hyperlink, date, number, etc..."
   ]
  },
  {
   "cell_type": "code",
   "execution_count": 92,
   "id": "46744dab-3bde-4795-a6d7-c3aee80b9125",
   "metadata": {},
   "outputs": [],
   "source": [
    "'''\n",
    " For removing breakline\n",
    "'''\n",
    "def re_breakline(text):\n",
    "    return re.sub('[\\n\\r]', ' ',text)"
   ]
  },
  {
   "cell_type": "code",
   "execution_count": 93,
   "id": "b03e4c00-905c-46b9-8a70-f3ef9565b433",
   "metadata": {},
   "outputs": [],
   "source": [
    "'''\n",
    " For removing punctuation, and space.\n",
    "'''\n",
    "def re_punctuation(text):\n",
    "    return  \" \".join(re.sub(f\"[{re.escape(string.punctuation)}]\", \" \", str(text).lower()).split())"
   ]
  },
  {
   "cell_type": "code",
   "execution_count": 94,
   "id": "e4f4867f-a135-42c8-936d-aacc946e3b08",
   "metadata": {},
   "outputs": [],
   "source": [
    "'''\n",
    " For removing number.\n",
    "'''\n",
    "def re_numbers(text):\n",
    "    \"\"\"\n",
    "    Args:\n",
    "    ----------\n",
    "    texts: text content to be prepared [type: string]\n",
    "    \"\"\"\n",
    "    # Applying regex\n",
    "    return re.sub('[0-9]+', ' numero ', strtext) "
   ]
  },
  {
   "cell_type": "code",
   "execution_count": 95,
   "id": "14e56b3a-d2a0-4008-95d0-5085de17bdbf",
   "metadata": {},
   "outputs": [],
   "source": [
    "def re_hiperlinks(text):\n",
    "    \"\"\"\n",
    "    Args:\n",
    "    ----------\n",
    "    texts: text content to be prepared [type: string]\n",
    "    \"\"\"\n",
    "    # Applying regex\n",
    "    pattern = 'http[s]?://(?:[a-zA-Z]|[0-9]|[$-_@.&+]|[!*\\(\\),]|(?:%[0-9a-fA-F][0-9a-fA-F]))+'\n",
    "    return re.sub(pattern, ' link ', text)"
   ]
  },
  {
   "cell_type": "code",
   "execution_count": 96,
   "id": "e143b21c-502d-4212-883f-33d492a6f780",
   "metadata": {},
   "outputs": [],
   "source": [
    "def re_emoiji(text):\n",
    "    \"\"\"\n",
    "    Args:\n",
    "    ----------\n",
    "    texts: list object with text content to be prepared [type: list]\n",
    "    \"\"\"\n",
    "    # Applying regex\n",
    "    return emoji.replace_emoji(text)"
   ]
  },
  {
   "cell_type": "code",
   "execution_count": 101,
   "id": "3f876bb4-4510-4f4e-bdee-753ab3a8415c",
   "metadata": {},
   "outputs": [],
   "source": [
    "def preprocess(text):\n",
    "    text = re_numbers(text)\n",
    "    text = re_emoiji(text)\n",
    "    text = re_breakline(text)\n",
    "    text = re_punctuation(text)\n",
    "    text = re_hiperlinks(text)\n",
    "    return text\n"
   ]
  },
  {
   "cell_type": "code",
   "execution_count": 102,
   "id": "e2be9d40-c744-4095-819a-79b4960dda6a",
   "metadata": {},
   "outputs": [
    {
     "ename": "TypeError",
     "evalue": "expected string or bytes-like object, got 'float'",
     "output_type": "error",
     "traceback": [
      "\u001b[0;31m---------------------------------------------------------------------------\u001b[0m",
      "\u001b[0;31mTypeError\u001b[0m                                 Traceback (most recent call last)",
      "Cell \u001b[0;32mIn[102], line 1\u001b[0m\n\u001b[0;32m----> 1\u001b[0m df_review[\u001b[38;5;124m'\u001b[39m\u001b[38;5;124mcleaned_comment\u001b[39m\u001b[38;5;124m'\u001b[39m] \u001b[38;5;241m=\u001b[39m \u001b[43mdf_review\u001b[49m\u001b[43m[\u001b[49m\u001b[38;5;124;43m'\u001b[39;49m\u001b[38;5;124;43mcontent\u001b[39;49m\u001b[38;5;124;43m'\u001b[39;49m\u001b[43m]\u001b[49m\u001b[38;5;241;43m.\u001b[39;49m\u001b[43mapply\u001b[49m\u001b[43m(\u001b[49m\u001b[43mpreprocess\u001b[49m\u001b[43m)\u001b[49m\n\u001b[1;32m      2\u001b[0m df_review[\u001b[38;5;124m'\u001b[39m\u001b[38;5;124mcleaned_comment\u001b[39m\u001b[38;5;124m'\u001b[39m]\n",
      "File \u001b[0;32m~/miniconda3/envs/ox/lib/python3.11/site-packages/pandas/core/series.py:4626\u001b[0m, in \u001b[0;36mapply\u001b[0;34m(self, func, convert_dtype, args, **kwargs)\u001b[0m\n\u001b[1;32m   4611\u001b[0m @overload  # type: ignore[override]\n\u001b[1;32m   4612\u001b[0m def any(\n\u001b[1;32m   4613\u001b[0m     self,\n\u001b[0;32m   (...)\u001b[0m\n\u001b[1;32m   4619\u001b[0m     **kwargs,\n\u001b[1;32m   4620\u001b[0m ) -> bool:\n\u001b[1;32m   4621\u001b[0m     ...\n\u001b[1;32m   4623\u001b[0m @overload\n\u001b[1;32m   4624\u001b[0m def any(\n\u001b[1;32m   4625\u001b[0m     self,\n\u001b[0;32m-> 4626\u001b[0m     *,\n\u001b[1;32m   4627\u001b[0m     axis: Axis = ...,\n\u001b[1;32m   4628\u001b[0m     bool_only: bool | None = ...,\n\u001b[1;32m   4629\u001b[0m     skipna: bool = ...,\n\u001b[1;32m   4630\u001b[0m     level: Level,\n\u001b[1;32m   4631\u001b[0m     **kwargs,\n\u001b[1;32m   4632\u001b[0m ) -> Series | bool:\n\u001b[1;32m   4633\u001b[0m     ...\n\u001b[1;32m   4635\u001b[0m @doc(NDFrame.any, **_shared_doc_kwargs)\n\u001b[1;32m   4636\u001b[0m def any(\n\u001b[1;32m   4637\u001b[0m     self,\n\u001b[0;32m   (...)\u001b[0m\n\u001b[1;32m   4642\u001b[0m     **kwargs,\n\u001b[1;32m   4643\u001b[0m ) -> Series | bool:\n",
      "File \u001b[0;32m~/miniconda3/envs/ox/lib/python3.11/site-packages/pandas/core/apply.py:1025\u001b[0m, in \u001b[0;36mapply\u001b[0;34m(self)\u001b[0m\n\u001b[1;32m   1022\u001b[0m \u001b[38;5;66;03m# We create one Series object, and will swap out the data inside\u001b[39;00m\n\u001b[1;32m   1023\u001b[0m \u001b[38;5;66;03m#  of it.  Kids: don't do this at home.\u001b[39;00m\n\u001b[1;32m   1024\u001b[0m ser \u001b[38;5;241m=\u001b[39m \u001b[38;5;28mself\u001b[39m\u001b[38;5;241m.\u001b[39mobj\u001b[38;5;241m.\u001b[39m_ixs(\u001b[38;5;241m0\u001b[39m, axis\u001b[38;5;241m=\u001b[39m\u001b[38;5;241m0\u001b[39m)\n\u001b[0;32m-> 1025\u001b[0m mgr \u001b[38;5;241m=\u001b[39m ser\u001b[38;5;241m.\u001b[39m_mgr\n\u001b[1;32m   1027\u001b[0m \u001b[38;5;28;01mif\u001b[39;00m is_extension_array_dtype(ser\u001b[38;5;241m.\u001b[39mdtype):\n\u001b[1;32m   1028\u001b[0m     \u001b[38;5;66;03m# values will be incorrect for this block\u001b[39;00m\n\u001b[1;32m   1029\u001b[0m     \u001b[38;5;66;03m# TODO(EA2D): special case would be unnecessary with 2D EAs\u001b[39;00m\n\u001b[1;32m   1030\u001b[0m     obj \u001b[38;5;241m=\u001b[39m \u001b[38;5;28mself\u001b[39m\u001b[38;5;241m.\u001b[39mobj\n",
      "File \u001b[0;32m~/miniconda3/envs/ox/lib/python3.11/site-packages/pandas/core/apply.py:1076\u001b[0m, in \u001b[0;36mapply_standard\u001b[0;34m(self)\u001b[0m\n\u001b[1;32m   1073\u001b[0m result = self.obj._constructor(data=results)\n\u001b[1;32m   1074\u001b[0m result = result.T\n\u001b[0;32m-> 1076\u001b[0m # set the index\n\u001b[1;32m   1077\u001b[0m result.index = res_index\n\u001b[1;32m   1079\u001b[0m # infer dtypes\n",
      "File \u001b[0;32m~/miniconda3/envs/ox/lib/python3.11/site-packages/pandas/_libs/lib.pyx:2834\u001b[0m, in \u001b[0;36mpandas._libs.lib.map_infer\u001b[0;34m()\u001b[0m\n",
      "Cell \u001b[0;32mIn[101], line 2\u001b[0m, in \u001b[0;36mpreprocess\u001b[0;34m(text)\u001b[0m\n\u001b[1;32m      1\u001b[0m \u001b[38;5;28;01mdef\u001b[39;00m \u001b[38;5;21mpreprocess\u001b[39m(text):\n\u001b[0;32m----> 2\u001b[0m     text \u001b[38;5;241m=\u001b[39m \u001b[43mre_numbers\u001b[49m\u001b[43m(\u001b[49m\u001b[43mtext\u001b[49m\u001b[43m)\u001b[49m\n\u001b[1;32m      3\u001b[0m     text \u001b[38;5;241m=\u001b[39m re_emoiji(text)\n\u001b[1;32m      4\u001b[0m     text \u001b[38;5;241m=\u001b[39m re_breakline(text)\n",
      "Cell \u001b[0;32mIn[94], line 11\u001b[0m, in \u001b[0;36mre_numbers\u001b[0;34m(text)\u001b[0m\n\u001b[1;32m      5\u001b[0m \u001b[38;5;250m\u001b[39m\u001b[38;5;124;03m\"\"\"\u001b[39;00m\n\u001b[1;32m      6\u001b[0m \u001b[38;5;124;03mArgs:\u001b[39;00m\n\u001b[1;32m      7\u001b[0m \u001b[38;5;124;03m----------\u001b[39;00m\n\u001b[1;32m      8\u001b[0m \u001b[38;5;124;03mtexts: text content to be prepared [type: string]\u001b[39;00m\n\u001b[1;32m      9\u001b[0m \u001b[38;5;124;03m\"\"\"\u001b[39;00m\n\u001b[1;32m     10\u001b[0m \u001b[38;5;66;03m# Applying regex\u001b[39;00m\n\u001b[0;32m---> 11\u001b[0m \u001b[38;5;28;01mreturn\u001b[39;00m \u001b[43mre\u001b[49m\u001b[38;5;241;43m.\u001b[39;49m\u001b[43msub\u001b[49m\u001b[43m(\u001b[49m\u001b[38;5;124;43m'\u001b[39;49m\u001b[38;5;124;43m[0-9]+\u001b[39;49m\u001b[38;5;124;43m'\u001b[39;49m\u001b[43m,\u001b[49m\u001b[43m \u001b[49m\u001b[38;5;124;43m'\u001b[39;49m\u001b[38;5;124;43m numero \u001b[39;49m\u001b[38;5;124;43m'\u001b[39;49m\u001b[43m,\u001b[49m\u001b[43m \u001b[49m\u001b[43mtext\u001b[49m\u001b[43m)\u001b[49m\n",
      "File \u001b[0;32m~/miniconda3/envs/ox/lib/python3.11/re/__init__.py:185\u001b[0m, in \u001b[0;36msub\u001b[0;34m(pattern, repl, string, count, flags)\u001b[0m\n\u001b[1;32m    178\u001b[0m \u001b[38;5;28;01mdef\u001b[39;00m \u001b[38;5;21msub\u001b[39m(pattern, repl, string, count\u001b[38;5;241m=\u001b[39m\u001b[38;5;241m0\u001b[39m, flags\u001b[38;5;241m=\u001b[39m\u001b[38;5;241m0\u001b[39m):\n\u001b[1;32m    179\u001b[0m \u001b[38;5;250m    \u001b[39m\u001b[38;5;124;03m\"\"\"Return the string obtained by replacing the leftmost\u001b[39;00m\n\u001b[1;32m    180\u001b[0m \u001b[38;5;124;03m    non-overlapping occurrences of the pattern in string by the\u001b[39;00m\n\u001b[1;32m    181\u001b[0m \u001b[38;5;124;03m    replacement repl.  repl can be either a string or a callable;\u001b[39;00m\n\u001b[1;32m    182\u001b[0m \u001b[38;5;124;03m    if a string, backslash escapes in it are processed.  If it is\u001b[39;00m\n\u001b[1;32m    183\u001b[0m \u001b[38;5;124;03m    a callable, it's passed the Match object and must return\u001b[39;00m\n\u001b[1;32m    184\u001b[0m \u001b[38;5;124;03m    a replacement string to be used.\"\"\"\u001b[39;00m\n\u001b[0;32m--> 185\u001b[0m     \u001b[38;5;28;01mreturn\u001b[39;00m \u001b[43m_compile\u001b[49m\u001b[43m(\u001b[49m\u001b[43mpattern\u001b[49m\u001b[43m,\u001b[49m\u001b[43m \u001b[49m\u001b[43mflags\u001b[49m\u001b[43m)\u001b[49m\u001b[38;5;241;43m.\u001b[39;49m\u001b[43msub\u001b[49m\u001b[43m(\u001b[49m\u001b[43mrepl\u001b[49m\u001b[43m,\u001b[49m\u001b[43m \u001b[49m\u001b[43mstring\u001b[49m\u001b[43m,\u001b[49m\u001b[43m \u001b[49m\u001b[43mcount\u001b[49m\u001b[43m)\u001b[49m\n",
      "\u001b[0;31mTypeError\u001b[0m: expected string or bytes-like object, got 'float'"
     ]
    }
   ],
   "source": [
    "df_review['cleaned_comment'] = df_review['content'].apply(preprocess)\n",
    "df_review['cleaned_comment']"
   ]
  },
  {
   "cell_type": "code",
   "execution_count": null,
   "id": "c89a1bde-3a55-4f86-9241-18481afdcc07",
   "metadata": {},
   "outputs": [],
   "source": []
  }
 ],
 "metadata": {
  "kernelspec": {
   "display_name": "ox",
   "language": "python",
   "name": "ox"
  },
  "language_info": {
   "codemirror_mode": {
    "name": "ipython",
    "version": 3
   },
   "file_extension": ".py",
   "mimetype": "text/x-python",
   "name": "python",
   "nbconvert_exporter": "python",
   "pygments_lexer": "ipython3",
   "version": "3.11.4"
  }
 },
 "nbformat": 4,
 "nbformat_minor": 5
}
